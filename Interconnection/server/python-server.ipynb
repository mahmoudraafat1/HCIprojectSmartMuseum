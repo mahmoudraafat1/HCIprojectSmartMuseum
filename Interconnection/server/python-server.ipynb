{
 "cells": [
  {
   "cell_type": "code",
   "execution_count": 3,
   "id": "e67f3709",
   "metadata": {},
   "outputs": [
    {
     "name": "stdout",
     "output_type": "stream",
     "text": [
      "device connected\n",
      "('127.0.0.1', 55523)\n"
     ]
    },
    {
     "data": {
      "text/plain": [
       "11"
      ]
     },
     "execution_count": 3,
     "metadata": {},
     "output_type": "execute_result"
    }
   ],
   "source": [
    "import socket\n",
    "import pickle \n",
    "soc = socket.socket()\n",
    "hostname=\"localhost\"# 127.0.0.1 #0.0.0.0\n",
    "port=65435\n",
    "y=[2,4,7,22]\n",
    "soc.bind((hostname,port))\n",
    "soc.listen(5)\n",
    "conn , addr = soc.accept()\n",
    "print(\"device connected\")\n",
    "print(addr)\n",
    "msg = b\"Hello World\"\n",
    "#     msg = pickle.dumps(y)\n",
    "conn.send(msg)"
   ]
  },
  {
   "cell_type": "code",
   "execution_count": 2,
   "id": "c7ca47f6",
   "metadata": {},
   "outputs": [],
   "source": [
    "soc.close()"
   ]
  },
  {
   "cell_type": "code",
   "execution_count": null,
   "id": "02abdbd9",
   "metadata": {},
   "outputs": [],
   "source": []
  }
 ],
 "metadata": {
  "kernelspec": {
   "display_name": "Python 3",
   "language": "python",
   "name": "python3"
  },
  "language_info": {
   "codemirror_mode": {
    "name": "ipython",
    "version": 3
   },
   "file_extension": ".py",
   "mimetype": "text/x-python",
   "name": "python",
   "nbconvert_exporter": "python",
   "pygments_lexer": "ipython3",
   "version": "3.8.8"
  }
 },
 "nbformat": 4,
 "nbformat_minor": 5
}
